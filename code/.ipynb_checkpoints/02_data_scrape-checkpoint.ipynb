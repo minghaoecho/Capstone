{
 "cells": [
  {
   "cell_type": "code",
   "execution_count": 19,
   "metadata": {},
   "outputs": [],
   "source": [
    "import pandas as pd\n",
    "from bs4 import BeautifulSoup\n",
    "from selenium import webdriver\n",
    "from random import randint\n",
    "from time import sleep\n",
    "import time"
   ]
  },
  {
   "cell_type": "code",
   "execution_count": 20,
   "metadata": {},
   "outputs": [],
   "source": [
    "review = pd.read_csv('../data/year_2018.csv')"
   ]
  },
  {
   "cell_type": "code",
   "execution_count": 21,
   "metadata": {},
   "outputs": [],
   "source": [
    "review.drop('Unnamed: 0',axis = 1, inplace = True)"
   ]
  },
  {
   "cell_type": "code",
   "execution_count": 22,
   "metadata": {},
   "outputs": [
    {
     "data": {
      "text/plain": [
       "(377430, 9)"
      ]
     },
     "execution_count": 22,
     "metadata": {},
     "output_type": "execute_result"
    }
   ],
   "source": [
    "review.shape"
   ]
  },
  {
   "cell_type": "code",
   "execution_count": 23,
   "metadata": {
    "scrolled": true
   },
   "outputs": [
    {
     "data": {
      "text/html": [
       "<div>\n",
       "<style scoped>\n",
       "    .dataframe tbody tr th:only-of-type {\n",
       "        vertical-align: middle;\n",
       "    }\n",
       "\n",
       "    .dataframe tbody tr th {\n",
       "        vertical-align: top;\n",
       "    }\n",
       "\n",
       "    .dataframe thead th {\n",
       "        text-align: right;\n",
       "    }\n",
       "</style>\n",
       "<table border=\"1\" class=\"dataframe\">\n",
       "  <thead>\n",
       "    <tr style=\"text-align: right;\">\n",
       "      <th></th>\n",
       "      <th>overall</th>\n",
       "      <th>vote</th>\n",
       "      <th>verified</th>\n",
       "      <th>reviewTime</th>\n",
       "      <th>reviewerID</th>\n",
       "      <th>asin</th>\n",
       "      <th>style</th>\n",
       "      <th>reviewText</th>\n",
       "      <th>summary</th>\n",
       "    </tr>\n",
       "  </thead>\n",
       "  <tbody>\n",
       "    <tr>\n",
       "      <td>0</td>\n",
       "      <td>5.0</td>\n",
       "      <td>NaN</td>\n",
       "      <td>True</td>\n",
       "      <td>2018-10-04</td>\n",
       "      <td>A2IXGBWKX73O21</td>\n",
       "      <td>B01HI7D4VY</td>\n",
       "      <td>NaN</td>\n",
       "      <td>quality, very bright</td>\n",
       "      <td>for the price, excellent</td>\n",
       "    </tr>\n",
       "    <tr>\n",
       "      <td>1</td>\n",
       "      <td>5.0</td>\n",
       "      <td>NaN</td>\n",
       "      <td>True</td>\n",
       "      <td>2018-10-04</td>\n",
       "      <td>AHEX3FYTJ2AX6</td>\n",
       "      <td>B01HH36F74</td>\n",
       "      <td>{'Color:': ' CA100'}</td>\n",
       "      <td>Works as expected.</td>\n",
       "      <td>Works as expected.</td>\n",
       "    </tr>\n",
       "    <tr>\n",
       "      <td>2</td>\n",
       "      <td>3.0</td>\n",
       "      <td>NaN</td>\n",
       "      <td>False</td>\n",
       "      <td>2018-10-03</td>\n",
       "      <td>A2J77LP43D7QMX</td>\n",
       "      <td>B01HF0YGCK</td>\n",
       "      <td>{'Color:': ' Black'}</td>\n",
       "      <td>For a 3 pack they had a great price when I bou...</td>\n",
       "      <td>Great for the price</td>\n",
       "    </tr>\n",
       "    <tr>\n",
       "      <td>3</td>\n",
       "      <td>5.0</td>\n",
       "      <td>NaN</td>\n",
       "      <td>True</td>\n",
       "      <td>2018-10-03</td>\n",
       "      <td>A32FN9RNY65CKH</td>\n",
       "      <td>B01HGF6XTI</td>\n",
       "      <td>{'Size:': ' Charger'}</td>\n",
       "      <td>Went to Boston and forgot my charger.\\nOrdered...</td>\n",
       "      <td>Worked fine - got me through in a pinch</td>\n",
       "    </tr>\n",
       "    <tr>\n",
       "      <td>4</td>\n",
       "      <td>5.0</td>\n",
       "      <td>NaN</td>\n",
       "      <td>True</td>\n",
       "      <td>2018-10-02</td>\n",
       "      <td>A2ZE26LV7HVSAD</td>\n",
       "      <td>B01GUITK24</td>\n",
       "      <td>{'Style Name:': ' Bookshelf Speaker Mount 2 Pa...</td>\n",
       "      <td>I had to use my own drywall anchors which were...</td>\n",
       "      <td>Solid and kind of heavy</td>\n",
       "    </tr>\n",
       "  </tbody>\n",
       "</table>\n",
       "</div>"
      ],
      "text/plain": [
       "   overall  vote  verified  reviewTime      reviewerID        asin  \\\n",
       "0      5.0   NaN      True  2018-10-04  A2IXGBWKX73O21  B01HI7D4VY   \n",
       "1      5.0   NaN      True  2018-10-04   AHEX3FYTJ2AX6  B01HH36F74   \n",
       "2      3.0   NaN     False  2018-10-03  A2J77LP43D7QMX  B01HF0YGCK   \n",
       "3      5.0   NaN      True  2018-10-03  A32FN9RNY65CKH  B01HGF6XTI   \n",
       "4      5.0   NaN      True  2018-10-02  A2ZE26LV7HVSAD  B01GUITK24   \n",
       "\n",
       "                                               style  \\\n",
       "0                                                NaN   \n",
       "1                               {'Color:': ' CA100'}   \n",
       "2                               {'Color:': ' Black'}   \n",
       "3                              {'Size:': ' Charger'}   \n",
       "4  {'Style Name:': ' Bookshelf Speaker Mount 2 Pa...   \n",
       "\n",
       "                                          reviewText  \\\n",
       "0                               quality, very bright   \n",
       "1                                 Works as expected.   \n",
       "2  For a 3 pack they had a great price when I bou...   \n",
       "3  Went to Boston and forgot my charger.\\nOrdered...   \n",
       "4  I had to use my own drywall anchors which were...   \n",
       "\n",
       "                                   summary  \n",
       "0                 for the price, excellent  \n",
       "1                       Works as expected.  \n",
       "2                      Great for the price  \n",
       "3  Worked fine - got me through in a pinch  \n",
       "4                  Solid and kind of heavy  "
      ]
     },
     "execution_count": 23,
     "metadata": {},
     "output_type": "execute_result"
    }
   ],
   "source": [
    "review.head()"
   ]
  },
  {
   "cell_type": "code",
   "execution_count": 24,
   "metadata": {},
   "outputs": [],
   "source": [
    "asin_list = list(review['asin'].unique())"
   ]
  },
  {
   "cell_type": "code",
   "execution_count": 25,
   "metadata": {},
   "outputs": [
    {
     "data": {
      "text/plain": [
       "56675"
      ]
     },
     "execution_count": 25,
     "metadata": {},
     "output_type": "execute_result"
    }
   ],
   "source": [
    "len(asin_list)"
   ]
  },
  {
   "cell_type": "code",
   "execution_count": 26,
   "metadata": {},
   "outputs": [
    {
     "data": {
      "text/plain": [
       "168153"
      ]
     },
     "execution_count": 26,
     "metadata": {},
     "output_type": "execute_result"
    }
   ],
   "source": [
    "len(list(review['reviewerID'].unique()))"
   ]
  },
  {
   "cell_type": "code",
   "execution_count": 17,
   "metadata": {},
   "outputs": [
    {
     "ename": "AttributeError",
     "evalue": "'NoneType' object has no attribute 'find_all'",
     "output_type": "error",
     "traceback": [
      "\u001b[1;31m---------------------------------------------------------------------------\u001b[0m",
      "\u001b[1;31mAttributeError\u001b[0m                            Traceback (most recent call last)",
      "\u001b[1;32m<ipython-input-17-4c5cc830359f>\u001b[0m in \u001b[0;36m<module>\u001b[1;34m\u001b[0m\n\u001b[0;32m      5\u001b[0m \u001b[0mproduct_info\u001b[0m \u001b[1;33m=\u001b[0m \u001b[1;33m{\u001b[0m\u001b[1;33m}\u001b[0m\u001b[1;33m\u001b[0m\u001b[1;33m\u001b[0m\u001b[0m\n\u001b[0;32m      6\u001b[0m \u001b[0mul_d\u001b[0m \u001b[1;33m=\u001b[0m \u001b[0msoup\u001b[0m\u001b[1;33m.\u001b[0m\u001b[0mfind\u001b[0m\u001b[1;33m(\u001b[0m\u001b[1;34m'ul'\u001b[0m\u001b[1;33m,\u001b[0m \u001b[1;33m{\u001b[0m\u001b[1;34m'class'\u001b[0m\u001b[1;33m:\u001b[0m \u001b[1;34m'a-unordered-list a-vertical a-spacing-none'\u001b[0m\u001b[1;33m}\u001b[0m\u001b[1;33m)\u001b[0m\u001b[1;33m\u001b[0m\u001b[1;33m\u001b[0m\u001b[0m\n\u001b[1;32m----> 7\u001b[1;33m \u001b[0mproduct_info\u001b[0m\u001b[1;33m[\u001b[0m\u001b[1;34m'description'\u001b[0m\u001b[1;33m]\u001b[0m \u001b[1;33m=\u001b[0m \u001b[1;33m[\u001b[0m\u001b[0mlitag\u001b[0m\u001b[1;33m.\u001b[0m\u001b[0mtext\u001b[0m\u001b[1;33m.\u001b[0m\u001b[0mstrip\u001b[0m\u001b[1;33m(\u001b[0m\u001b[1;33m)\u001b[0m \u001b[1;32mfor\u001b[0m \u001b[0mlitag\u001b[0m \u001b[1;32min\u001b[0m \u001b[0mul_d\u001b[0m\u001b[1;33m.\u001b[0m\u001b[0mfind_all\u001b[0m\u001b[1;33m(\u001b[0m\u001b[1;34m'li'\u001b[0m\u001b[1;33m)\u001b[0m\u001b[1;33m]\u001b[0m\u001b[1;33m\u001b[0m\u001b[1;33m\u001b[0m\u001b[0m\n\u001b[0m\u001b[0;32m      8\u001b[0m \u001b[0mproduct_info\u001b[0m\u001b[1;33m\u001b[0m\u001b[1;33m\u001b[0m\u001b[0m\n",
      "\u001b[1;31mAttributeError\u001b[0m: 'NoneType' object has no attribute 'find_all'"
     ]
    }
   ],
   "source": [
    "driver = webdriver.Chrome(executable_path=\"./chromedriver/windows/chromedriver.exe\")\n",
    "product_list = []\n",
    "driver.get('https://www.amazon.com/gp/product/B01GUITK24')\n",
    "soup = BeautifulSoup(driver.page_source, 'lxml')\n",
    "product_info = {}\n",
    "ul_d = soup.find('ul', {'class': 'a-unordered-list a-vertical a-spacing-none'})\n",
    "product_info['description'] = [litag.text.strip() for litag in ul_d.find_all('li')]\n",
    "product_info"
   ]
  },
  {
   "cell_type": "code",
   "execution_count": 33,
   "metadata": {},
   "outputs": [
    {
     "name": "stdout",
     "output_type": "stream",
     "text": [
      "100 467.5344271659851\n",
      "200 933.9704563617706\n",
      "300 1430.7179863452911\n",
      "400 1866.4886393547058\n",
      "500 2263.1523926258087\n",
      "600 2668.629253387451\n",
      "700 3059.070291042328\n",
      "800 3469.301524400711\n",
      "900 3907.997594833374\n"
     ]
    }
   ],
   "source": [
    "#chrome_options = Options()\n",
    "#chrome_options.add_argument('--dns-prefetch-disable')\n",
    "#webdriver= Chrome(chrome_options = chrome_options)\n",
    "driver = webdriver.Chrome(executable_path=\"./chromedriver/windows/chromedriver.exe\")\n",
    "product_list = []\n",
    "counter = 0\n",
    "t1=time.time()\n",
    "for i in asin_list[14001:15000]:\n",
    "    try:\n",
    "        driver.get(f'https://www.amazon.com/gp/product/{i}')\n",
    "    except:\n",
    "        driver.close()\n",
    "        driver = webdriver.Chrome(executable_path=\"./chromedriver/windows/chromedriver.exe\")\n",
    "        driver.get(f'https://www.amazon.com/gp/product/{i}')\n",
    "    soup = BeautifulSoup(driver.page_source, 'lxml')\n",
    "    product_info = {}\n",
    "    try:\n",
    "        product_info['asin'] = i\n",
    "        product_info['product_name'] = soup.find('span', {'id':'productTitle'}).text.strip()\n",
    "        product_info['product_brand'] = soup.find('a', {'id':'bylineInfo'}).text.strip()\n",
    "        product_info['product_rating'] = soup.find('span', {'class':'a-icon-alt'}).text.strip()\n",
    "        product_info['product_rate_count'] = soup.find('span', {'id':'acrCustomerReviewText'}).text.strip()\n",
    "        ul_c= soup.find('ul', {'class': 'a-unordered-list a-horizontal a-size-small'})\n",
    "        product_info['category'] = [litag.text.strip() for litag in ul_c.find_all('li') if litag.text.strip() != '›']\n",
    "        ul_d = soup.find('ul', {'class': 'a-unordered-list a-vertical a-spacing-none'})\n",
    "        product_info['description'] = [litag.text.strip() for litag in ul_d.find_all('li')]\n",
    "        product_list.append(product_info)\n",
    "    except:\n",
    "        product_info['asin'] = i\n",
    "        product_info['product_name'] = 0\n",
    "        product_info['product_brand'] = 0\n",
    "        product_info['product_rating'] = 0\n",
    "        product_info['product_rate_count'] = 0\n",
    "        product_info['category'] = 0\n",
    "        product_info['description'] = 0\n",
    "        \n",
    "        product_list.append(product_info)\n",
    "    counter+=1\n",
    "    if counter%100 == 0:\n",
    "        print (counter,time.time()-t1)\n",
    "    sleep(randint(1,2))\n",
    "product = pd.DataFrame(product_list)"
   ]
  },
  {
   "cell_type": "code",
   "execution_count": 29,
   "metadata": {},
   "outputs": [
    {
     "data": {
      "text/html": [
       "<div>\n",
       "<style scoped>\n",
       "    .dataframe tbody tr th:only-of-type {\n",
       "        vertical-align: middle;\n",
       "    }\n",
       "\n",
       "    .dataframe tbody tr th {\n",
       "        vertical-align: top;\n",
       "    }\n",
       "\n",
       "    .dataframe thead th {\n",
       "        text-align: right;\n",
       "    }\n",
       "</style>\n",
       "<table border=\"1\" class=\"dataframe\">\n",
       "  <thead>\n",
       "    <tr style=\"text-align: right;\">\n",
       "      <th></th>\n",
       "      <th>asin</th>\n",
       "      <th>product_name</th>\n",
       "      <th>product_brand</th>\n",
       "      <th>product_rating</th>\n",
       "      <th>product_rate_count</th>\n",
       "      <th>category</th>\n",
       "      <th>description</th>\n",
       "    </tr>\n",
       "  </thead>\n",
       "  <tbody>\n",
       "    <tr>\n",
       "      <td>0</td>\n",
       "      <td>B00HZDRCRO</td>\n",
       "      <td>0</td>\n",
       "      <td>0</td>\n",
       "      <td>0</td>\n",
       "      <td>0</td>\n",
       "      <td>0</td>\n",
       "      <td>0</td>\n",
       "    </tr>\n",
       "    <tr>\n",
       "      <td>1</td>\n",
       "      <td>B00RAXEM9K</td>\n",
       "      <td>SoundPal SonoBass Wireless Over-Ear Headphones...</td>\n",
       "      <td>SoundPal</td>\n",
       "      <td>3.6 out of 5 stars</td>\n",
       "      <td>225 ratings</td>\n",
       "      <td>[Electronics, Headphones, Over-Ear Headphones]</td>\n",
       "      <td>[Consumer Alert: Most users do not need a lice...</td>\n",
       "    </tr>\n",
       "    <tr>\n",
       "      <td>2</td>\n",
       "      <td>B01BLZ8BA8</td>\n",
       "      <td>TV Remote Add-on for Fire TV Stick Remote (Con...</td>\n",
       "      <td>Mission Cables</td>\n",
       "      <td>3.4 out of 5 stars</td>\n",
       "      <td>308 ratings</td>\n",
       "      <td>[Electronics, Accessories &amp; Supplies, Audio &amp; ...</td>\n",
       "      <td>[Control your TV directly from your Fire TV St...</td>\n",
       "    </tr>\n",
       "    <tr>\n",
       "      <td>3</td>\n",
       "      <td>B00Q7V8NR8</td>\n",
       "      <td>iPad Air 2 A1567 Slim Tough Case G5 - Rugged P...</td>\n",
       "      <td>Hitek</td>\n",
       "      <td>3.4 out of 5 stars</td>\n",
       "      <td>13 ratings</td>\n",
       "      <td>[Electronics, Computers &amp; Accessories, Tablet ...</td>\n",
       "      <td>[Super rugged protection for the iPad Air 2 A1...</td>\n",
       "    </tr>\n",
       "    <tr>\n",
       "      <td>4</td>\n",
       "      <td>B00KCVZ2FA</td>\n",
       "      <td>STK EN-EL15 EN-EL15a Battery for Nikon D7000, ...</td>\n",
       "      <td>STK/SterlingTek</td>\n",
       "      <td>4.2 out of 5 stars</td>\n",
       "      <td>1,004 ratings</td>\n",
       "      <td>[Electronics, Camera &amp; Photo, Accessories, Bat...</td>\n",
       "      <td>[Make sure this fits\\nby entering your model n...</td>\n",
       "    </tr>\n",
       "    <tr>\n",
       "      <td>...</td>\n",
       "      <td>...</td>\n",
       "      <td>...</td>\n",
       "      <td>...</td>\n",
       "      <td>...</td>\n",
       "      <td>...</td>\n",
       "      <td>...</td>\n",
       "      <td>...</td>\n",
       "    </tr>\n",
       "    <tr>\n",
       "      <td>994</td>\n",
       "      <td>B00LGN8OW6</td>\n",
       "      <td>Kingwin 4-Port USB 3.0 Hub w/LED for MacBook, ...</td>\n",
       "      <td>Kingwin</td>\n",
       "      <td>3.2 out of 5 stars</td>\n",
       "      <td>158 ratings</td>\n",
       "      <td>[Electronics, Computers &amp; Accessories, Network...</td>\n",
       "      <td>[Make sure this fits\\nby entering your model n...</td>\n",
       "    </tr>\n",
       "    <tr>\n",
       "      <td>995</td>\n",
       "      <td>B017D9K6A4</td>\n",
       "      <td>0</td>\n",
       "      <td>0</td>\n",
       "      <td>0</td>\n",
       "      <td>0</td>\n",
       "      <td>0</td>\n",
       "      <td>0</td>\n",
       "    </tr>\n",
       "    <tr>\n",
       "      <td>996</td>\n",
       "      <td>B00F5UDW2I</td>\n",
       "      <td>Kattee Men's Canvas Cow Leather DSLR SLR Vinta...</td>\n",
       "      <td>Kattee</td>\n",
       "      <td>4.4 out of 5 stars</td>\n",
       "      <td>164 ratings</td>\n",
       "      <td>[Electronics, Camera &amp; Photo, Bags &amp; Cases, Ca...</td>\n",
       "      <td>[Make sure this fits\\nby entering your model n...</td>\n",
       "    </tr>\n",
       "    <tr>\n",
       "      <td>997</td>\n",
       "      <td>B00W962GJQ</td>\n",
       "      <td>Bestcompu Genuine New Lenovo Thinkpad L540 W54...</td>\n",
       "      <td>Best Compu</td>\n",
       "      <td>4.1 out of 5 stars</td>\n",
       "      <td>9 ratings</td>\n",
       "      <td>[Electronics, Computers &amp; Accessories, Compute...</td>\n",
       "      <td>[Make sure this fits\\nby entering your model n...</td>\n",
       "    </tr>\n",
       "    <tr>\n",
       "      <td>998</td>\n",
       "      <td>B01D66D9PM</td>\n",
       "      <td>ANVISION 2-Pack Black Male to Female DC Power ...</td>\n",
       "      <td>ANVISION</td>\n",
       "      <td>3.9 out of 5 stars</td>\n",
       "      <td>18 ratings</td>\n",
       "      <td>[Electronics, Accessories &amp; Supplies, Audio &amp; ...</td>\n",
       "      <td>[Make sure this fits\\nby entering your model n...</td>\n",
       "    </tr>\n",
       "  </tbody>\n",
       "</table>\n",
       "<p>999 rows × 7 columns</p>\n",
       "</div>"
      ],
      "text/plain": [
       "           asin                                       product_name  \\\n",
       "0    B00HZDRCRO                                                  0   \n",
       "1    B00RAXEM9K  SoundPal SonoBass Wireless Over-Ear Headphones...   \n",
       "2    B01BLZ8BA8  TV Remote Add-on for Fire TV Stick Remote (Con...   \n",
       "3    B00Q7V8NR8  iPad Air 2 A1567 Slim Tough Case G5 - Rugged P...   \n",
       "4    B00KCVZ2FA  STK EN-EL15 EN-EL15a Battery for Nikon D7000, ...   \n",
       "..          ...                                                ...   \n",
       "994  B00LGN8OW6  Kingwin 4-Port USB 3.0 Hub w/LED for MacBook, ...   \n",
       "995  B017D9K6A4                                                  0   \n",
       "996  B00F5UDW2I  Kattee Men's Canvas Cow Leather DSLR SLR Vinta...   \n",
       "997  B00W962GJQ  Bestcompu Genuine New Lenovo Thinkpad L540 W54...   \n",
       "998  B01D66D9PM  ANVISION 2-Pack Black Male to Female DC Power ...   \n",
       "\n",
       "       product_brand      product_rating product_rate_count  \\\n",
       "0                  0                   0                  0   \n",
       "1           SoundPal  3.6 out of 5 stars        225 ratings   \n",
       "2     Mission Cables  3.4 out of 5 stars        308 ratings   \n",
       "3              Hitek  3.4 out of 5 stars         13 ratings   \n",
       "4    STK/SterlingTek  4.2 out of 5 stars      1,004 ratings   \n",
       "..               ...                 ...                ...   \n",
       "994          Kingwin  3.2 out of 5 stars        158 ratings   \n",
       "995                0                   0                  0   \n",
       "996           Kattee  4.4 out of 5 stars        164 ratings   \n",
       "997       Best Compu  4.1 out of 5 stars          9 ratings   \n",
       "998         ANVISION  3.9 out of 5 stars         18 ratings   \n",
       "\n",
       "                                              category  \\\n",
       "0                                                    0   \n",
       "1       [Electronics, Headphones, Over-Ear Headphones]   \n",
       "2    [Electronics, Accessories & Supplies, Audio & ...   \n",
       "3    [Electronics, Computers & Accessories, Tablet ...   \n",
       "4    [Electronics, Camera & Photo, Accessories, Bat...   \n",
       "..                                                 ...   \n",
       "994  [Electronics, Computers & Accessories, Network...   \n",
       "995                                                  0   \n",
       "996  [Electronics, Camera & Photo, Bags & Cases, Ca...   \n",
       "997  [Electronics, Computers & Accessories, Compute...   \n",
       "998  [Electronics, Accessories & Supplies, Audio & ...   \n",
       "\n",
       "                                           description  \n",
       "0                                                    0  \n",
       "1    [Consumer Alert: Most users do not need a lice...  \n",
       "2    [Control your TV directly from your Fire TV St...  \n",
       "3    [Super rugged protection for the iPad Air 2 A1...  \n",
       "4    [Make sure this fits\\nby entering your model n...  \n",
       "..                                                 ...  \n",
       "994  [Make sure this fits\\nby entering your model n...  \n",
       "995                                                  0  \n",
       "996  [Make sure this fits\\nby entering your model n...  \n",
       "997  [Make sure this fits\\nby entering your model n...  \n",
       "998  [Make sure this fits\\nby entering your model n...  \n",
       "\n",
       "[999 rows x 7 columns]"
      ]
     },
     "execution_count": 29,
     "metadata": {},
     "output_type": "execute_result"
    }
   ],
   "source": [
    "product"
   ]
  },
  {
   "cell_type": "code",
   "execution_count": 34,
   "metadata": {},
   "outputs": [],
   "source": [
    "product.to_csv('../data/product14001_15000.csv')"
   ]
  },
  {
   "cell_type": "code",
   "execution_count": null,
   "metadata": {},
   "outputs": [],
   "source": []
  }
 ],
 "metadata": {
  "kernelspec": {
   "display_name": "Python 3",
   "language": "python",
   "name": "python3"
  },
  "language_info": {
   "codemirror_mode": {
    "name": "ipython",
    "version": 3
   },
   "file_extension": ".py",
   "mimetype": "text/x-python",
   "name": "python",
   "nbconvert_exporter": "python",
   "pygments_lexer": "ipython3",
   "version": "3.7.3"
  }
 },
 "nbformat": 4,
 "nbformat_minor": 2
}
