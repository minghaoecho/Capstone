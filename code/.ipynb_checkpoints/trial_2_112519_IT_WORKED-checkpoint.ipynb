{
 "cells": [
  {
   "cell_type": "code",
   "execution_count": 18,
   "metadata": {},
   "outputs": [],
   "source": [
    "import sqlalchemy as db\n",
    "import datetime\n",
    "\n",
    "from sodapy import Socrata\n",
    "\n",
    "import pandas as pd\n",
    "\n",
    "import subprocess\n",
    "import json"
   ]
  },
  {
   "cell_type": "markdown",
   "metadata": {},
   "source": [
    "# Data\n",
    "---\n",
    "\n",
    "### DHS Daily Report\n",
    "Source: https://data.cityofnewyork.us/Social-Services/DHS-Daily-Report/k46n-sa2m\n",
    "\n",
    "This dataset includes the daily number of families and individuals residing in the Department of Homeless Services (DHS) shelter system and the daily number of families applying to the DHS shelter system."
   ]
  },
  {
   "cell_type": "code",
   "execution_count": 19,
   "metadata": {},
   "outputs": [],
   "source": [
    "creds_file = open('../creds.json', 'r')\n",
    "socrata_creds = json.loads(creds_file.read())\n",
    "\n",
    "# Unauthenticated client only works with public data sets. Note 'None'\n",
    "# in place of application token, and no username or password:\n",
    "client = Socrata(\"data.cityofnewyork.us\", socrata_creds['app_token'])"
   ]
  },
  {
   "cell_type": "code",
   "execution_count": 20,
   "metadata": {},
   "outputs": [],
   "source": [
    "# First 2000 results, returned as JSON from API / converted to Python list of\n",
    "# dictionaries by sodapy.\n",
    "results = client.get(\"k46n-sa2m\", limit = 10_000);\n",
    "\n",
    "# Convert to pandas DataFrame\n",
    "daily_df = pd.DataFrame.from_records(results);"
   ]
  },
  {
   "cell_type": "markdown",
   "metadata": {},
   "source": [
    "# Create database"
   ]
  },
  {
   "cell_type": "code",
   "execution_count": 40,
   "metadata": {},
   "outputs": [],
   "source": [
    "creds_file = open('./database_cred.json', 'r')\n",
    "database_creds = json.loads(creds_file.read())"
   ]
  },
  {
   "cell_type": "code",
   "execution_count": 41,
   "metadata": {},
   "outputs": [],
   "source": [
    "engine = db.create_engine(database_creds['url'])\n",
    "\n",
    "connection = engine.connect()\n",
    "metadata = db.MetaData()"
   ]
  },
  {
   "cell_type": "code",
   "execution_count": 33,
   "metadata": {},
   "outputs": [
    {
     "data": {
      "text/plain": [
       "<sqlalchemy.engine.result.ResultProxy at 0x10fd5a518>"
      ]
     },
     "execution_count": 33,
     "metadata": {},
     "output_type": "execute_result"
    }
   ],
   "source": [
    "sql = f\"\"\"CREATE TABLE ny_dhs_daily (date_of_census DATE\"\"\"\n",
    "for col in list(results[0].keys())[1:]:\n",
    "    sql += f\", {col} INT\"\n",
    "sql += \")\"\n",
    "\n",
    "connection.execute(sql)"
   ]
  },
  {
   "cell_type": "code",
   "execution_count": 34,
   "metadata": {},
   "outputs": [
    {
     "data": {
      "text/plain": [
       "<sqlalchemy.engine.result.ResultProxy at 0x12263df98>"
      ]
     },
     "execution_count": 34,
     "metadata": {},
     "output_type": "execute_result"
    }
   ],
   "source": [
    "sql = \"INSERT INTO ny_dhs_daily VALUES\"\n",
    "\n",
    "for result in results:\n",
    "    keys = list(result.keys())\n",
    "    date = result[keys[0]].split('T')[0]\n",
    "\n",
    "    sql += f\"('{date}'\"\n",
    "    for num_key in range(len(keys)-1):\n",
    "        sql = sql + f\", {result[keys[num_key + 1]]}\"\n",
    "    sql += \"),\"\n",
    "\n",
    "connection.execute(sql[:-1])"
   ]
  },
  {
   "cell_type": "code",
   "execution_count": 35,
   "metadata": {},
   "outputs": [
    {
     "data": {
      "text/plain": [
       "<sqlalchemy.engine.result.ResultProxy at 0x1106a4710>"
      ]
     },
     "execution_count": 35,
     "metadata": {},
     "output_type": "execute_result"
    }
   ],
   "source": [
    "sql = \"\"\"\n",
    "SELECT *\n",
    "FROM ny_dhs_daily\n",
    "\"\"\"\n",
    "\n",
    "connection.execute(sql)"
   ]
  },
  {
   "cell_type": "code",
   "execution_count": 36,
   "metadata": {},
   "outputs": [],
   "source": [
    "df = pd.read_sql_query(sql, engine)"
   ]
  },
  {
   "cell_type": "code",
   "execution_count": 38,
   "metadata": {},
   "outputs": [
    {
     "data": {
      "text/html": [
       "<div>\n",
       "<style scoped>\n",
       "    .dataframe tbody tr th:only-of-type {\n",
       "        vertical-align: middle;\n",
       "    }\n",
       "\n",
       "    .dataframe tbody tr th {\n",
       "        vertical-align: top;\n",
       "    }\n",
       "\n",
       "    .dataframe thead th {\n",
       "        text-align: right;\n",
       "    }\n",
       "</style>\n",
       "<table border=\"1\" class=\"dataframe\">\n",
       "  <thead>\n",
       "    <tr style=\"text-align: right;\">\n",
       "      <th></th>\n",
       "      <th>date_of_census</th>\n",
       "      <th>total_adults_in_shelter</th>\n",
       "      <th>total_children_in_shelter</th>\n",
       "      <th>total_individuals_in_shelter</th>\n",
       "      <th>single_adult_men_in_shelter</th>\n",
       "      <th>single_adult_women_in_shelter</th>\n",
       "      <th>total_single_adults_in_shelter</th>\n",
       "      <th>families_with_children_in_shelter</th>\n",
       "      <th>adults_in_families_with_children_in_shelter</th>\n",
       "      <th>children_in_families_with_children_in_shelter</th>\n",
       "      <th>total_individuals_in_families_with_children_in_shelter_</th>\n",
       "      <th>adult_families_in_shelter</th>\n",
       "      <th>individuals_in_adult_families_in_shelter</th>\n",
       "    </tr>\n",
       "  </thead>\n",
       "  <tbody>\n",
       "    <tr>\n",
       "      <th>0</th>\n",
       "      <td>2019-11-23</td>\n",
       "      <td>38393</td>\n",
       "      <td>21747</td>\n",
       "      <td>60140</td>\n",
       "      <td>12217</td>\n",
       "      <td>4598</td>\n",
       "      <td>16815</td>\n",
       "      <td>12208</td>\n",
       "      <td>16325</td>\n",
       "      <td>21747</td>\n",
       "      <td>38072</td>\n",
       "      <td>2493</td>\n",
       "      <td>5253</td>\n",
       "    </tr>\n",
       "    <tr>\n",
       "      <th>1</th>\n",
       "      <td>2019-11-22</td>\n",
       "      <td>38402</td>\n",
       "      <td>21779</td>\n",
       "      <td>60181</td>\n",
       "      <td>12205</td>\n",
       "      <td>4599</td>\n",
       "      <td>16804</td>\n",
       "      <td>12219</td>\n",
       "      <td>16338</td>\n",
       "      <td>21779</td>\n",
       "      <td>38117</td>\n",
       "      <td>2497</td>\n",
       "      <td>5260</td>\n",
       "    </tr>\n",
       "    <tr>\n",
       "      <th>2</th>\n",
       "      <td>2019-11-21</td>\n",
       "      <td>38521</td>\n",
       "      <td>21818</td>\n",
       "      <td>60339</td>\n",
       "      <td>12247</td>\n",
       "      <td>4624</td>\n",
       "      <td>16871</td>\n",
       "      <td>12234</td>\n",
       "      <td>16374</td>\n",
       "      <td>21818</td>\n",
       "      <td>38192</td>\n",
       "      <td>2506</td>\n",
       "      <td>5276</td>\n",
       "    </tr>\n",
       "    <tr>\n",
       "      <th>3</th>\n",
       "      <td>2019-11-20</td>\n",
       "      <td>38520</td>\n",
       "      <td>21831</td>\n",
       "      <td>60351</td>\n",
       "      <td>12268</td>\n",
       "      <td>4608</td>\n",
       "      <td>16876</td>\n",
       "      <td>12241</td>\n",
       "      <td>16381</td>\n",
       "      <td>21831</td>\n",
       "      <td>38212</td>\n",
       "      <td>2500</td>\n",
       "      <td>5263</td>\n",
       "    </tr>\n",
       "    <tr>\n",
       "      <th>4</th>\n",
       "      <td>2019-11-19</td>\n",
       "      <td>38558</td>\n",
       "      <td>21847</td>\n",
       "      <td>60405</td>\n",
       "      <td>12282</td>\n",
       "      <td>4618</td>\n",
       "      <td>16900</td>\n",
       "      <td>12242</td>\n",
       "      <td>16384</td>\n",
       "      <td>21847</td>\n",
       "      <td>38231</td>\n",
       "      <td>2505</td>\n",
       "      <td>5274</td>\n",
       "    </tr>\n",
       "  </tbody>\n",
       "</table>\n",
       "</div>"
      ],
      "text/plain": [
       "  date_of_census  total_adults_in_shelter  total_children_in_shelter  \\\n",
       "0     2019-11-23                    38393                      21747   \n",
       "1     2019-11-22                    38402                      21779   \n",
       "2     2019-11-21                    38521                      21818   \n",
       "3     2019-11-20                    38520                      21831   \n",
       "4     2019-11-19                    38558                      21847   \n",
       "\n",
       "   total_individuals_in_shelter  single_adult_men_in_shelter  \\\n",
       "0                         60140                        12217   \n",
       "1                         60181                        12205   \n",
       "2                         60339                        12247   \n",
       "3                         60351                        12268   \n",
       "4                         60405                        12282   \n",
       "\n",
       "   single_adult_women_in_shelter  total_single_adults_in_shelter  \\\n",
       "0                           4598                           16815   \n",
       "1                           4599                           16804   \n",
       "2                           4624                           16871   \n",
       "3                           4608                           16876   \n",
       "4                           4618                           16900   \n",
       "\n",
       "   families_with_children_in_shelter  \\\n",
       "0                              12208   \n",
       "1                              12219   \n",
       "2                              12234   \n",
       "3                              12241   \n",
       "4                              12242   \n",
       "\n",
       "   adults_in_families_with_children_in_shelter  \\\n",
       "0                                        16325   \n",
       "1                                        16338   \n",
       "2                                        16374   \n",
       "3                                        16381   \n",
       "4                                        16384   \n",
       "\n",
       "   children_in_families_with_children_in_shelter  \\\n",
       "0                                          21747   \n",
       "1                                          21779   \n",
       "2                                          21818   \n",
       "3                                          21831   \n",
       "4                                          21847   \n",
       "\n",
       "   total_individuals_in_families_with_children_in_shelter_  \\\n",
       "0                                              38072         \n",
       "1                                              38117         \n",
       "2                                              38192         \n",
       "3                                              38212         \n",
       "4                                              38231         \n",
       "\n",
       "   adult_families_in_shelter  individuals_in_adult_families_in_shelter  \n",
       "0                       2493                                      5253  \n",
       "1                       2497                                      5260  \n",
       "2                       2506                                      5276  \n",
       "3                       2500                                      5263  \n",
       "4                       2505                                      5274  "
      ]
     },
     "execution_count": 38,
     "metadata": {},
     "output_type": "execute_result"
    }
   ],
   "source": [
    "df.head()"
   ]
  },
  {
   "cell_type": "markdown",
   "metadata": {},
   "source": [
    "# Dropping table"
   ]
  },
  {
   "cell_type": "code",
   "execution_count": 32,
   "metadata": {},
   "outputs": [
    {
     "data": {
      "text/plain": [
       "<sqlalchemy.engine.result.ResultProxy at 0x122578160>"
      ]
     },
     "execution_count": 32,
     "metadata": {},
     "output_type": "execute_result"
    }
   ],
   "source": [
    "sql = \"\"\"\n",
    "DROP TABLE ny_dhs_daily\n",
    "\"\"\"\n",
    "\n",
    "connection.execute(sql)"
   ]
  }
 ],
 "metadata": {
  "kernelspec": {
   "display_name": "Python 3",
   "language": "python",
   "name": "python3"
  },
  "language_info": {
   "codemirror_mode": {
    "name": "ipython",
    "version": 3
   },
   "file_extension": ".py",
   "mimetype": "text/x-python",
   "name": "python",
   "nbconvert_exporter": "python",
   "pygments_lexer": "ipython3",
   "version": "3.7.3"
  }
 },
 "nbformat": 4,
 "nbformat_minor": 2
}
