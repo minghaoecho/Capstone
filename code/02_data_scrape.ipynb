{
 "cells": [
  {
   "cell_type": "code",
   "execution_count": 70,
   "metadata": {},
   "outputs": [],
   "source": [
    "import pandas as pd\n",
    "from bs4 import BeautifulSoup\n",
    "from selenium import webdriver\n",
    "from random import randint\n",
    "from time import sleep\n",
    "from selenium.webdriver import Chrome\n",
    "from selenium.webdriver.chrome.options import Options"
   ]
  },
  {
   "cell_type": "code",
   "execution_count": 2,
   "metadata": {},
   "outputs": [],
   "source": [
    "review = pd.read_csv('../data/year_2018.csv')"
   ]
  },
  {
   "cell_type": "code",
   "execution_count": 3,
   "metadata": {},
   "outputs": [],
   "source": [
    "review.drop('Unnamed: 0',axis = 1, inplace = True)"
   ]
  },
  {
   "cell_type": "code",
   "execution_count": 4,
   "metadata": {},
   "outputs": [
    {
     "data": {
      "text/plain": [
       "(377430, 9)"
      ]
     },
     "execution_count": 4,
     "metadata": {},
     "output_type": "execute_result"
    }
   ],
   "source": [
    "review.shape"
   ]
  },
  {
   "cell_type": "code",
   "execution_count": 5,
   "metadata": {
    "scrolled": true
   },
   "outputs": [
    {
     "data": {
      "text/html": [
       "<div>\n",
       "<style scoped>\n",
       "    .dataframe tbody tr th:only-of-type {\n",
       "        vertical-align: middle;\n",
       "    }\n",
       "\n",
       "    .dataframe tbody tr th {\n",
       "        vertical-align: top;\n",
       "    }\n",
       "\n",
       "    .dataframe thead th {\n",
       "        text-align: right;\n",
       "    }\n",
       "</style>\n",
       "<table border=\"1\" class=\"dataframe\">\n",
       "  <thead>\n",
       "    <tr style=\"text-align: right;\">\n",
       "      <th></th>\n",
       "      <th>overall</th>\n",
       "      <th>vote</th>\n",
       "      <th>verified</th>\n",
       "      <th>reviewTime</th>\n",
       "      <th>reviewerID</th>\n",
       "      <th>asin</th>\n",
       "      <th>style</th>\n",
       "      <th>reviewText</th>\n",
       "      <th>summary</th>\n",
       "    </tr>\n",
       "  </thead>\n",
       "  <tbody>\n",
       "    <tr>\n",
       "      <td>0</td>\n",
       "      <td>5.0</td>\n",
       "      <td>NaN</td>\n",
       "      <td>True</td>\n",
       "      <td>2018-10-04</td>\n",
       "      <td>A2IXGBWKX73O21</td>\n",
       "      <td>B01HI7D4VY</td>\n",
       "      <td>NaN</td>\n",
       "      <td>quality, very bright</td>\n",
       "      <td>for the price, excellent</td>\n",
       "    </tr>\n",
       "    <tr>\n",
       "      <td>1</td>\n",
       "      <td>5.0</td>\n",
       "      <td>NaN</td>\n",
       "      <td>True</td>\n",
       "      <td>2018-10-04</td>\n",
       "      <td>AHEX3FYTJ2AX6</td>\n",
       "      <td>B01HH36F74</td>\n",
       "      <td>{'Color:': ' CA100'}</td>\n",
       "      <td>Works as expected.</td>\n",
       "      <td>Works as expected.</td>\n",
       "    </tr>\n",
       "    <tr>\n",
       "      <td>2</td>\n",
       "      <td>3.0</td>\n",
       "      <td>NaN</td>\n",
       "      <td>False</td>\n",
       "      <td>2018-10-03</td>\n",
       "      <td>A2J77LP43D7QMX</td>\n",
       "      <td>B01HF0YGCK</td>\n",
       "      <td>{'Color:': ' Black'}</td>\n",
       "      <td>For a 3 pack they had a great price when I bou...</td>\n",
       "      <td>Great for the price</td>\n",
       "    </tr>\n",
       "    <tr>\n",
       "      <td>3</td>\n",
       "      <td>5.0</td>\n",
       "      <td>NaN</td>\n",
       "      <td>True</td>\n",
       "      <td>2018-10-03</td>\n",
       "      <td>A32FN9RNY65CKH</td>\n",
       "      <td>B01HGF6XTI</td>\n",
       "      <td>{'Size:': ' Charger'}</td>\n",
       "      <td>Went to Boston and forgot my charger.\\nOrdered...</td>\n",
       "      <td>Worked fine - got me through in a pinch</td>\n",
       "    </tr>\n",
       "    <tr>\n",
       "      <td>4</td>\n",
       "      <td>5.0</td>\n",
       "      <td>NaN</td>\n",
       "      <td>True</td>\n",
       "      <td>2018-10-02</td>\n",
       "      <td>A2ZE26LV7HVSAD</td>\n",
       "      <td>B01GUITK24</td>\n",
       "      <td>{'Style Name:': ' Bookshelf Speaker Mount 2 Pa...</td>\n",
       "      <td>I had to use my own drywall anchors which were...</td>\n",
       "      <td>Solid and kind of heavy</td>\n",
       "    </tr>\n",
       "  </tbody>\n",
       "</table>\n",
       "</div>"
      ],
      "text/plain": [
       "   overall  vote  verified  reviewTime      reviewerID        asin  \\\n",
       "0      5.0   NaN      True  2018-10-04  A2IXGBWKX73O21  B01HI7D4VY   \n",
       "1      5.0   NaN      True  2018-10-04   AHEX3FYTJ2AX6  B01HH36F74   \n",
       "2      3.0   NaN     False  2018-10-03  A2J77LP43D7QMX  B01HF0YGCK   \n",
       "3      5.0   NaN      True  2018-10-03  A32FN9RNY65CKH  B01HGF6XTI   \n",
       "4      5.0   NaN      True  2018-10-02  A2ZE26LV7HVSAD  B01GUITK24   \n",
       "\n",
       "                                               style  \\\n",
       "0                                                NaN   \n",
       "1                               {'Color:': ' CA100'}   \n",
       "2                               {'Color:': ' Black'}   \n",
       "3                              {'Size:': ' Charger'}   \n",
       "4  {'Style Name:': ' Bookshelf Speaker Mount 2 Pa...   \n",
       "\n",
       "                                          reviewText  \\\n",
       "0                               quality, very bright   \n",
       "1                                 Works as expected.   \n",
       "2  For a 3 pack they had a great price when I bou...   \n",
       "3  Went to Boston and forgot my charger.\\nOrdered...   \n",
       "4  I had to use my own drywall anchors which were...   \n",
       "\n",
       "                                   summary  \n",
       "0                 for the price, excellent  \n",
       "1                       Works as expected.  \n",
       "2                      Great for the price  \n",
       "3  Worked fine - got me through in a pinch  \n",
       "4                  Solid and kind of heavy  "
      ]
     },
     "execution_count": 5,
     "metadata": {},
     "output_type": "execute_result"
    }
   ],
   "source": [
    "review.head()"
   ]
  },
  {
   "cell_type": "code",
   "execution_count": 6,
   "metadata": {},
   "outputs": [],
   "source": [
    "asin_list = list(review['asin'].unique())"
   ]
  },
  {
   "cell_type": "code",
   "execution_count": 7,
   "metadata": {},
   "outputs": [
    {
     "data": {
      "text/plain": [
       "56675"
      ]
     },
     "execution_count": 7,
     "metadata": {},
     "output_type": "execute_result"
    }
   ],
   "source": [
    "len(asin_list)"
   ]
  },
  {
   "cell_type": "code",
   "execution_count": 8,
   "metadata": {},
   "outputs": [
    {
     "data": {
      "text/plain": [
       "168153"
      ]
     },
     "execution_count": 8,
     "metadata": {},
     "output_type": "execute_result"
    }
   ],
   "source": [
    "len(list(review['reviewerID'].unique()))"
   ]
  },
  {
   "cell_type": "code",
   "execution_count": 77,
   "metadata": {},
   "outputs": [],
   "source": [
    "# driver = webdriver.Chrome(executable_path=\"./chromedriver/windows/chromedriver.exe\")\n",
    "# product_list = []\n",
    "# driver.get('https://www.amazon.com/gp/product/B01GZRIJRC')\n",
    "# soup = BeautifulSoup(driver.page_source, 'lxml')\n",
    "# product_info = {}\n",
    "# ul_d = soup.find('ul', {'class': 'a-unordered-list a-vertical a-spacing-none'})\n",
    "# product_info['category'] = [litag.text.strip() for litag in ul_c.find_all('li') if litag.text.strip() != '›']"
   ]
  },
  {
   "cell_type": "code",
   "execution_count": 108,
   "metadata": {},
   "outputs": [],
   "source": [
    "#chrome_options = Options()\n",
    "#chrome_options.add_argument('--dns-prefetch-disable')\n",
    "#webdriver= Chrome(chrome_options = chrome_options)\n",
    "driver = webdriver.Chrome(executable_path=\"./chromedriver/windows/chromedriver.exe\")\n",
    "product_list = []\n",
    "for i in asin_list[1001:2000]:\n",
    "    try:\n",
    "        driver.get(f'https://www.amazon.com/gp/product/{i}')\n",
    "    except:\n",
    "        driver.close()\n",
    "        driver = webdriver.Chrome(executable_path=\"./chromedriver/windows/chromedriver.exe\")\n",
    "        driver.get(f'https://www.amazon.com/gp/product/{i}')\n",
    "    soup = BeautifulSoup(driver.page_source, 'lxml')\n",
    "    product_info = {}\n",
    "    try:\n",
    "        product_info['asin'] = i\n",
    "        product_info['product_name'] = soup.find('span', {'id':'productTitle'}).text.strip()\n",
    "        product_info['product_rating'] = soup.find('span', {'class':'a-icon-alt'}).text.strip()\n",
    "        product_info['product_rate_count'] = soup.find('span', {'id':'acrCustomerReviewText'}).text.strip()\n",
    "        ul_c= soup.find('ul', {'class': 'a-unordered-list a-horizontal a-size-small'})\n",
    "        product_info['category'] = [litag.text.strip() for litag in ul_c.find_all('li') if litag.text.strip() != '›']\n",
    "        ul_d = soup.find('ul', {'class': 'a-unordered-list a-vertical a-spacing-none'})\n",
    "        product_info['description'] = [litag.text.strip() for litag in ul_d.find_all('li')]\n",
    "        product_list.append(product_info)\n",
    "    except:\n",
    "        product_info['asin'] = i\n",
    "        product_info['product_name'] = 0\n",
    "        product_info['product_rating'] = 0\n",
    "        product_info['product_rate_count'] = 0\n",
    "        product_info['category'] = 0\n",
    "        product_info['description'] = 0\n",
    "        \n",
    "        product_list.append(product_info)\n",
    "    sleep(randint(1,2))\n",
    "product = pd.DataFrame(product_list)"
   ]
  },
  {
   "cell_type": "code",
   "execution_count": 109,
   "metadata": {},
   "outputs": [
    {
     "data": {
      "text/html": [
       "<div>\n",
       "<style scoped>\n",
       "    .dataframe tbody tr th:only-of-type {\n",
       "        vertical-align: middle;\n",
       "    }\n",
       "\n",
       "    .dataframe tbody tr th {\n",
       "        vertical-align: top;\n",
       "    }\n",
       "\n",
       "    .dataframe thead th {\n",
       "        text-align: right;\n",
       "    }\n",
       "</style>\n",
       "<table border=\"1\" class=\"dataframe\">\n",
       "  <thead>\n",
       "    <tr style=\"text-align: right;\">\n",
       "      <th></th>\n",
       "      <th>asin</th>\n",
       "      <th>product_name</th>\n",
       "      <th>product_rating</th>\n",
       "      <th>product_rate_count</th>\n",
       "      <th>category</th>\n",
       "      <th>description</th>\n",
       "    </tr>\n",
       "  </thead>\n",
       "  <tbody>\n",
       "    <tr>\n",
       "      <td>0</td>\n",
       "      <td>B01B5RJ0XY</td>\n",
       "      <td>iExcell 100 Pcs Black 9 mm Cable Tie Base Sadd...</td>\n",
       "      <td>4.5 out of 5 stars</td>\n",
       "      <td>24 ratings</td>\n",
       "      <td>[Electronics, Accessories &amp; Supplies, Cord Man...</td>\n",
       "      <td>[✔ Product Name : Cable Tie Mount;Color : Blac...</td>\n",
       "    </tr>\n",
       "    <tr>\n",
       "      <td>1</td>\n",
       "      <td>B01FUYWMII</td>\n",
       "      <td>USB Type-c Adapter, Acessorz high Speed USB Ty...</td>\n",
       "      <td>5.0 out of 5 stars</td>\n",
       "      <td>2 ratings</td>\n",
       "      <td>[Electronics, Computers &amp; Accessories, Compute...</td>\n",
       "      <td>[Make sure this fits\\nby entering your model n...</td>\n",
       "    </tr>\n",
       "    <tr>\n",
       "      <td>2</td>\n",
       "      <td>B01HBSB7XC</td>\n",
       "      <td>Nalpar 6 x 10 feet Green Chromakey Backdrop Ba...</td>\n",
       "      <td>4.4 out of 5 stars</td>\n",
       "      <td>72 ratings</td>\n",
       "      <td>[Electronics, Camera &amp; Photo, Lighting &amp; Studi...</td>\n",
       "      <td>[Make sure this fits\\nby entering your model n...</td>\n",
       "    </tr>\n",
       "    <tr>\n",
       "      <td>3</td>\n",
       "      <td>B01FV2HJFU</td>\n",
       "      <td>Aduro Tablet Gooseneck Universal Mount, Solid ...</td>\n",
       "      <td>3.8 out of 5 stars</td>\n",
       "      <td>638 ratings</td>\n",
       "      <td>[Electronics, Computers &amp; Accessories, Tablet ...</td>\n",
       "      <td>[Make sure this fits\\nby entering your model n...</td>\n",
       "    </tr>\n",
       "    <tr>\n",
       "      <td>4</td>\n",
       "      <td>B01CS5O9YC</td>\n",
       "      <td>RCA to HDMI Video Converter - Tendak AV CVBS C...</td>\n",
       "      <td>3.7 out of 5 stars</td>\n",
       "      <td>16 ratings</td>\n",
       "      <td>[Electronics, Accessories &amp; Supplies, Audio &amp; ...</td>\n",
       "      <td>[RCA/ AV to HDMI Converter will converts compo...</td>\n",
       "    </tr>\n",
       "    <tr>\n",
       "      <td>...</td>\n",
       "      <td>...</td>\n",
       "      <td>...</td>\n",
       "      <td>...</td>\n",
       "      <td>...</td>\n",
       "      <td>...</td>\n",
       "      <td>...</td>\n",
       "    </tr>\n",
       "    <tr>\n",
       "      <td>994</td>\n",
       "      <td>B01B289BCQ</td>\n",
       "      <td>Soot Sprites Susuwatari My Neighbor Totoro And...</td>\n",
       "      <td>4.4 out of 5 stars</td>\n",
       "      <td>35 ratings</td>\n",
       "      <td>[Electronics, Computers &amp; Accessories, Laptop ...</td>\n",
       "      <td>[Make sure this fits\\nby entering your model n...</td>\n",
       "    </tr>\n",
       "    <tr>\n",
       "      <td>995</td>\n",
       "      <td>B017THGEFQ</td>\n",
       "      <td>Syrp Genie Mini Camera Motion Control - Wirele...</td>\n",
       "      <td>4.6 out of 5 stars</td>\n",
       "      <td>40 ratings</td>\n",
       "      <td>[Electronics, Camera &amp; Photo, Accessories, Tri...</td>\n",
       "      <td>[Make sure this fits\\nby entering your model n...</td>\n",
       "    </tr>\n",
       "    <tr>\n",
       "      <td>996</td>\n",
       "      <td>B01CO4Y8IE</td>\n",
       "      <td>Amazon Protective Cover for Kindle Paperwhite,...</td>\n",
       "      <td>4.2 out of 5 stars</td>\n",
       "      <td>742 ratings</td>\n",
       "      <td>[Electronics, eBook Readers &amp; Accessories, Cov...</td>\n",
       "      <td>[Designed by Amazon to perfectly fit your Kind...</td>\n",
       "    </tr>\n",
       "    <tr>\n",
       "      <td>997</td>\n",
       "      <td>B018PU87TM</td>\n",
       "      <td>SIME-ON: Phone and Tablet Stand, Desk Holder C...</td>\n",
       "      <td>4.5 out of 5 stars</td>\n",
       "      <td>702 ratings</td>\n",
       "      <td>[Electronics, Computers &amp; Accessories, Tablet ...</td>\n",
       "      <td>[Universal Stand Compatibility: This universal...</td>\n",
       "    </tr>\n",
       "    <tr>\n",
       "      <td>998</td>\n",
       "      <td>B01BUSN07K</td>\n",
       "      <td>SanDisk Ultra USB Type-C 32GB Flash Drive (SDC...</td>\n",
       "      <td>3.3 out of 5 stars</td>\n",
       "      <td>178 ratings</td>\n",
       "      <td>[Electronics, Computers &amp; Accessories, Data St...</td>\n",
       "      <td>[Your Rescue Plan documents will be delivered ...</td>\n",
       "    </tr>\n",
       "  </tbody>\n",
       "</table>\n",
       "<p>999 rows × 6 columns</p>\n",
       "</div>"
      ],
      "text/plain": [
       "           asin                                       product_name  \\\n",
       "0    B01B5RJ0XY  iExcell 100 Pcs Black 9 mm Cable Tie Base Sadd...   \n",
       "1    B01FUYWMII  USB Type-c Adapter, Acessorz high Speed USB Ty...   \n",
       "2    B01HBSB7XC  Nalpar 6 x 10 feet Green Chromakey Backdrop Ba...   \n",
       "3    B01FV2HJFU  Aduro Tablet Gooseneck Universal Mount, Solid ...   \n",
       "4    B01CS5O9YC  RCA to HDMI Video Converter - Tendak AV CVBS C...   \n",
       "..          ...                                                ...   \n",
       "994  B01B289BCQ  Soot Sprites Susuwatari My Neighbor Totoro And...   \n",
       "995  B017THGEFQ  Syrp Genie Mini Camera Motion Control - Wirele...   \n",
       "996  B01CO4Y8IE  Amazon Protective Cover for Kindle Paperwhite,...   \n",
       "997  B018PU87TM  SIME-ON: Phone and Tablet Stand, Desk Holder C...   \n",
       "998  B01BUSN07K  SanDisk Ultra USB Type-C 32GB Flash Drive (SDC...   \n",
       "\n",
       "         product_rating product_rate_count  \\\n",
       "0    4.5 out of 5 stars         24 ratings   \n",
       "1    5.0 out of 5 stars          2 ratings   \n",
       "2    4.4 out of 5 stars         72 ratings   \n",
       "3    3.8 out of 5 stars        638 ratings   \n",
       "4    3.7 out of 5 stars         16 ratings   \n",
       "..                  ...                ...   \n",
       "994  4.4 out of 5 stars         35 ratings   \n",
       "995  4.6 out of 5 stars         40 ratings   \n",
       "996  4.2 out of 5 stars        742 ratings   \n",
       "997  4.5 out of 5 stars        702 ratings   \n",
       "998  3.3 out of 5 stars        178 ratings   \n",
       "\n",
       "                                              category  \\\n",
       "0    [Electronics, Accessories & Supplies, Cord Man...   \n",
       "1    [Electronics, Computers & Accessories, Compute...   \n",
       "2    [Electronics, Camera & Photo, Lighting & Studi...   \n",
       "3    [Electronics, Computers & Accessories, Tablet ...   \n",
       "4    [Electronics, Accessories & Supplies, Audio & ...   \n",
       "..                                                 ...   \n",
       "994  [Electronics, Computers & Accessories, Laptop ...   \n",
       "995  [Electronics, Camera & Photo, Accessories, Tri...   \n",
       "996  [Electronics, eBook Readers & Accessories, Cov...   \n",
       "997  [Electronics, Computers & Accessories, Tablet ...   \n",
       "998  [Electronics, Computers & Accessories, Data St...   \n",
       "\n",
       "                                           description  \n",
       "0    [✔ Product Name : Cable Tie Mount;Color : Blac...  \n",
       "1    [Make sure this fits\\nby entering your model n...  \n",
       "2    [Make sure this fits\\nby entering your model n...  \n",
       "3    [Make sure this fits\\nby entering your model n...  \n",
       "4    [RCA/ AV to HDMI Converter will converts compo...  \n",
       "..                                                 ...  \n",
       "994  [Make sure this fits\\nby entering your model n...  \n",
       "995  [Make sure this fits\\nby entering your model n...  \n",
       "996  [Designed by Amazon to perfectly fit your Kind...  \n",
       "997  [Universal Stand Compatibility: This universal...  \n",
       "998  [Your Rescue Plan documents will be delivered ...  \n",
       "\n",
       "[999 rows x 6 columns]"
      ]
     },
     "execution_count": 109,
     "metadata": {},
     "output_type": "execute_result"
    }
   ],
   "source": [
    "product"
   ]
  },
  {
   "cell_type": "code",
   "execution_count": 110,
   "metadata": {},
   "outputs": [],
   "source": [
    "product.to_csv('../data/product1001_2000.csv')"
   ]
  },
  {
   "cell_type": "code",
   "execution_count": null,
   "metadata": {},
   "outputs": [],
   "source": []
  }
 ],
 "metadata": {
  "kernelspec": {
   "display_name": "Python 3",
   "language": "python",
   "name": "python3"
  },
  "language_info": {
   "codemirror_mode": {
    "name": "ipython",
    "version": 3
   },
   "file_extension": ".py",
   "mimetype": "text/x-python",
   "name": "python",
   "nbconvert_exporter": "python",
   "pygments_lexer": "ipython3",
   "version": "3.7.3"
  }
 },
 "nbformat": 4,
 "nbformat_minor": 2
}
